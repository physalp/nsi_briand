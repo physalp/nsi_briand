{
 "cells": [
  {
   "cell_type": "code",
   "execution_count": null,
   "id": "05d7c67c",
   "metadata": {},
   "outputs": [],
   "source": [
    "Qu’est-ce qu’un objet ? \n",
    "\n",
    " Un objet, c’est simplement “quelque chose” qui respecte des règles préétablies.  Exemple : un nombre est un objet sur lequel je peux faire des comparaisons, des opérations.  Cependant, quand nous créons un objet supposé représenter quelque chose du monde extérieur (réel : une voiture) \n",
    "ou imaginaire (un Pokémon etc.), leur type n’est pas toujours cohérent : \n",
    "\n"
   ]
  },
  {
   "cell_type": "code",
   "execution_count": 2,
   "id": "260f6f61",
   "metadata": {},
   "outputs": [
    {
     "data": {
      "text/plain": [
       "dict"
      ]
     },
     "execution_count": 2,
     "metadata": {},
     "output_type": "execute_result"
    }
   ],
   "source": [
    "dracaufeu = {\"nom\": \" dracaufeu\", \"niveau\": 100}\n",
    "type(dracaufeu) "
   ]
  },
  {
   "cell_type": "code",
   "execution_count": null,
   "id": "6d241d36",
   "metadata": {},
   "outputs": [],
   "source": [
    "Certes, le programmeur pense ces objets là comme des compétiteurs ou des Pokémons, mais en pratique : ce sont toujours des dictionnaires.\n",
    "    \n",
    "On voudrait créer un objet de type Pokemon,  qui a certains attributs : (nom : dracaufeu, niveau : 100, PV : ....) et des méthodes :  \n",
    "• Qui permettent d’accéder à leurs données. \n",
    "• Qui permettent de modifier certaines données \n",
    "• D’executer leurs actions : crier, attaquer ..."
   ]
  },
  {
   "cell_type": "code",
   "execution_count": null,
   "id": "216417cd",
   "metadata": {},
   "outputs": [],
   "source": [
    "Créer un nouveau type avec le mot clé class : \n",
    " \n",
    "2.1 Déclaration \n",
    "\n",
    " De la même manière que le mot clé def permet de créer une fonction et de l’affecter à une variable, le mot \n",
    "clé class permet de créer un type (une classe) et de l’affecter à une variable.  Qu’est ce qu’une classe ? C’est un moule qui sert a fabriquer des objets du même type  Exemple : dracaufeu est un objet de la classe Pokemon  \n",
    "Attention : le nom d’une classe prends toujours une majuscule !  \n",
    "Les propriétés de dracaufeu sont des attributs Les actions de dracaufeu sont des méthodes.   La méthode __init__ est le constructeur, on l’appelle quand on crée un objet qui est une instance de la classe.\n",
    "La variable self est toujours le premier paramètre d’une méthode. Il désigne l’objet lui même.\n",
    "\n"
   ]
  },
  {
   "cell_type": "code",
   "execution_count": 3,
   "id": "00a4e593",
   "metadata": {},
   "outputs": [
    {
     "ename": "SyntaxError",
     "evalue": "EOL while scanning string literal (<ipython-input-3-654f256925e0>, line 13)",
     "output_type": "error",
     "traceback": [
      "\u001b[1;36m  File \u001b[1;32m\"<ipython-input-3-654f256925e0>\"\u001b[1;36m, line \u001b[1;32m13\u001b[0m\n\u001b[1;33m    poke1=Pokemon(\"dracaufeu\",100,100'30)\u001b[0m\n\u001b[1;37m                                         ^\u001b[0m\n\u001b[1;31mSyntaxError\u001b[0m\u001b[1;31m:\u001b[0m EOL while scanning string literal\n"
     ]
    }
   ],
   "source": [
    "class Pokemon:     \n",
    "    def __init__(self,nom,niveau,points_vie,attaque,defense,type1,type2):\n",
    "        \"\"\"Contructeur\"\"\"         \n",
    "        self.__nom=nom         \n",
    "        self.niveau=niveau         \n",
    "        self.__points_vie=points_vie         \n",
    "        self.attaque=attaque         \n",
    "        self.defense=defense         \n",
    "        self.type1=type1         \n",
    "        self.type2=type2 \n",
    "\n",
    "\n",
    "poke1=Pokemon(\"dracaufeu\",100,100'30)\n",
    "type(poke1)\n"
   ]
  },
  {
   "cell_type": "code",
   "execution_count": null,
   "id": "b5945ce9",
   "metadata": {},
   "outputs": [],
   "source": [
    "remarque : les deux underscore avant points_vie rendent l’attribut privé   \n",
    "Principe d’encapsulation : \n",
    "L’utilisateur ne doit avoir accès qu’à un nombre restreint de méthodes d’interface lui permettant d’agir sur l’objet \n",
    "de façon contrôlée et sécurisée. \n",
    "Les méthodes et les attributs qu’un utilisateur peut utiliser directement sont dits PUBLICS. \n",
    "Le concepteur de la classe aura lui accès à d’autres méthodes pour réaliser le fonctionnement des méthodes publics \n",
    "notamment. On dit des méthodes et des attributs uniquement utilisables à l’intérieur de la Classe qu’ils sont PRIVES.  "
   ]
  }
 ],
 "metadata": {
  "kernelspec": {
   "display_name": "Python 3",
   "language": "python",
   "name": "python3"
  },
  "language_info": {
   "codemirror_mode": {
    "name": "ipython",
    "version": 3
   },
   "file_extension": ".py",
   "mimetype": "text/x-python",
   "name": "python",
   "nbconvert_exporter": "python",
   "pygments_lexer": "ipython3",
   "version": "3.8.8"
  }
 },
 "nbformat": 4,
 "nbformat_minor": 5
}
