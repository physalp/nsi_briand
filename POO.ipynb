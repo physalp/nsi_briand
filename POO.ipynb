{
 "cells": [
  {
   "cell_type": "code",
   "execution_count": null,
   "metadata": {},
   "outputs": [],
   "source": [
    "Qu’est-ce qu’un objet ? \n",
    "\n",
    " Un objet, c’est simplement “quelque chose” qui respecte des règles préétablies.  Exemple : un nombre est un objet sur lequel je peux faire des comparaisons, des opérations.  Cependant, quand nous créons un objet supposé représenter quelque chose du monde extérieur (réel : une voiture) \n",
    "ou imaginaire (un Pokémon etc.), leur type n’est pas toujours cohérent : \n",
    "\n"
   ]
  },
  {
   "cell_type": "code",
   "execution_count": 2,
   "metadata": {},
   "outputs": [
    {
     "data": {
      "text/plain": [
       "dict"
      ]
     },
     "execution_count": 2,
     "metadata": {},
     "output_type": "execute_result"
    }
   ],
   "source": [
    "dracaufeu = {\"nom\": \" dracaufeu\", \"niveau\": 100}\n",
    "type(dracaufeu) "
   ]
  },
  {
   "cell_type": "code",
   "execution_count": null,
   "metadata": {},
   "outputs": [],
   "source": [
    "Certes, le programmeur pense ces objets là comme des compétiteurs ou des Pokémons, mais en pratique : ce sont toujours des dictionnaires.\n",
    "    \n",
    "On voudrait créer un objet de type Pokemon,  qui a certains attributs : (nom : dracaufeu, niveau : 100, PV : ....) et des méthodes :  \n",
    "• Qui permettent d’accéder à leurs données. \n",
    "• Qui permettent de modifier certaines données \n",
    "• D’executer leurs actions : crier, attaquer ..."
   ]
  },
  {
   "cell_type": "code",
   "execution_count": null,
   "metadata": {},
   "outputs": [],
   "source": [
    "Créer un nouveau type avec le mot clé class : \n",
    " \n",
    "2.1 Déclaration \n",
    "\n",
    " De la même manière que le mot clé def permet de créer une fonction et de l’affecter à une variable, le mot \n",
    "clé class permet de créer un type (une classe) et de l’affecter à une variable.\n",
    "Qu’est ce qu’une classe ? C’est un moule qui sert a fabriquer des objets du même type  Exemple : dracaufeu est un objet de la classe Pokemon  \n",
    "Attention : le nom d’une classe prends toujours une majuscule !  \n",
    "    \n",
    "Les propriétés de dracaufeu sont des attributs Les actions de dracaufeu sont des méthodes.   La méthode __init__ est le constructeur, on l’appelle quand on crée un objet qui est une instance de la classe.\n",
    "La variable self est toujours le premier paramètre d’une méthode. Il désigne l’objet lui même.\n",
    "\n",
    "Créer une instance de la classe Pokemon que l’on nommera joueur1 : https://www.pokepedia.fr/Dracaufeu"
   ]
  },
  {
   "cell_type": "code",
   "execution_count": 1,
   "metadata": {},
   "outputs": [
    {
     "data": {
      "text/plain": [
       "__main__.Pokemon"
      ]
     },
     "execution_count": 1,
     "metadata": {},
     "output_type": "execute_result"
    }
   ],
   "source": [
    "class Pokemon:     \n",
    "    def __init__(self,nom,niveau,points_vie,attaque,defense,type1,type2):\n",
    "        \"\"\"Contructeur\"\"\"         \n",
    "        self.__nom=nom         \n",
    "        self.niveau=niveau         \n",
    "        self.__points_vie=points_vie         \n",
    "        self.attaque=attaque         \n",
    "        self.defense=defense         \n",
    "        self.type1=type1         \n",
    "        self.type2=type2 \n",
    "\n",
    "\n",
    "poke1=Pokemon(\"dracaufeu\",100,232,74,20,\"feu\",\"vol\")\n",
    "type(poke1)\n"
   ]
  },
  {
   "cell_type": "code",
   "execution_count": null,
   "metadata": {},
   "outputs": [],
   "source": [
    "remarque : les deux underscore avant points_vie rendent l’attribut privé   \n",
    "Principe d’encapsulation : \n",
    "L’utilisateur ne doit avoir accès qu’à un nombre restreint de méthodes d’interface lui permettant d’agir sur l’objet \n",
    "de façon contrôlée et sécurisée. \n",
    "Les méthodes et les attributs qu’un utilisateur peut utiliser directement sont dits PUBLICS. \n",
    "Le concepteur de la classe aura lui accès à d’autres méthodes pour réaliser le fonctionnement des méthodes publics \n",
    "notamment. On dit des méthodes et des attributs uniquement utilisables à l’intérieur de la Classe qu’ils sont PRIVES.  "
   ]
  },
  {
   "cell_type": "code",
   "execution_count": null,
   "metadata": {},
   "outputs": [],
   "source": [
    "2.2\tDeux catégories de méthodes : les mutateurs et les accesseurs\n",
    "\n",
    "Mutateur : méthode qui modifie l’état d’un objet (il modifie les attributs)\n",
    "Accesseur : méthode qui renvoie un résultat correspondant à un attribut ou donnant une idée de la valeur de l’attribut.\n",
    "exemple\n",
    "•\tget_points_vie qui récupére la valeur de l’attribut points de vie\n",
    "•\tset_points_vie qui modifie la valeur de l’attribut points de vie\n",
    "\n",
    "\n",
    "2.3\tLes méthodes spéciales :\n",
    "\n",
    "\n",
    "\n",
    "\n",
    "Python permet de définir des méthodes spéciales qui permettent de faciliter l'utilisation des objets. \n",
    "Nous allons présenter une méthode déclenchée quand on cherche à convertir notre objet en chaîne de caractères (str() ou print()). Cette méthode doit se nommer __str__. \n",
    "\n",
    "Ajouter la méthode\n",
    "\n",
    "    def __str__(self):\n",
    "        return(\"Je suis \" + self.__nom )\n",
    "\n",
    "et print(player1)\n",
    "Je suis dracaufeu\n",
    "\n",
    "\n",
    "\n",
    "Il est également possible de définir des méthodes spéciales permettant de comparer les objets avec les opérateurs de comparaison que nous avons vus précédemment. On appelle cela la comparaison riche. \n",
    "\n"
   ]
  },
  {
   "cell_type": "code",
   "execution_count": null,
   "metadata": {},
   "outputs": [],
   "source": [
    "3\tA vous de jouer :\n",
    "\n",
    "Ajouter la classe arène :\n",
    "\n",
    "class Arene:\n",
    "    \n",
    "    def __init__(self,pokemon1,pokemon2,type_arene):\n",
    "        self.pokemon1=pokemon1\n",
    "        self.pokemon2=pokemon2\n",
    "        self.type_arene=type_arene\n",
    "\n",
    "1.\tAjouter la méthode fin qui renvoie True si l'un des deux pokemon n'est plus en vie.\n",
    "\n",
    "2.\tAjouter la méthode jouer_tour(self,attaquant,defenseur), qui modifie les points de vie du défenseur en fonction de la puissance de l’attaque et de l’armure.\n",
    "\n",
    "3.\tAjouter la méthode combattre(self), où les joueurs sont tour à tour attaquant ou défenseur jusqu'a ce que l'un d'eux ne soit plus en vie.\n",
    "\n",
    "4.\tAjouter la méthode vainqueur(self), qui renvoie le nom du vainqueur si le combat est terminé et None sinon.\n",
    "\n",
    "5.\tAjouter la méthode ko(self), qui renvoie le nom du pokemon ko si le combat est terminé et None sinon.\n",
    "\n",
    "6.\tCréer une instance de la classe pokemon que l’on nommera joueur2\n",
    "joueur2=Pokemon(\"tortank\",100,132,90,30,\"eau\",\"\")\n",
    "https://www.pokepedia.fr/Tortank\n",
    "\n",
    "\n",
    "7.\tCréer une instance de la classe arène que l’on nommera azuria :\n",
    "azuria=Arene(joueur1,joueur2,\"eau\")\n",
    "\n",
    "8.\tAppeler la méthode combattre.\n",
    "\n",
    "9.\tAppeler la méthode vainqueur.\n",
    "\n",
    "10.\tAppeler la méthode ko.\n",
    "\n",
    "\n",
    "\n",
    "\n"
   ]
  }
 ],
 "metadata": {
  "kernelspec": {
   "display_name": "Python 3",
   "language": "python",
   "name": "python3"
  },
  "language_info": {
   "codemirror_mode": {
    "name": "ipython",
    "version": 3
   },
   "file_extension": ".py",
   "mimetype": "text/x-python",
   "name": "python",
   "nbconvert_exporter": "python",
   "pygments_lexer": "ipython3",
   "version": "3.7.4"
  }
 },
 "nbformat": 4,
 "nbformat_minor": 5
}
