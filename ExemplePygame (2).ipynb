{
 "cells": [
  {
   "cell_type": "code",
   "execution_count": null,
   "metadata": {},
   "outputs": [],
   "source": [
    "import pygame\n",
    "\n",
    "# Before you can do much with pygame, you will need to initialize it\n",
    "pygame.init()\n",
    "# Init de clock\n",
    "clock = pygame.time.Clock()\n",
    "\n",
    "CIEL = 0, 200, 255  # parenthèses inutiles, l'interpréteur reconnaît un tuple\n",
    "\n",
    "def main():\n",
    "    fenetre = pygame.display.set_mode((640, 480))\n",
    "\n",
    "    # loop\n",
    "    loop = True\n",
    "    # Création d'une image de la taille de la fenêtre\n",
    "    background = pygame.Surface(fenetre.get_size())\n",
    "\n",
    "    while loop:\n",
    "        for event in pygame.event.get():\n",
    "            if event.type == pygame.QUIT:\n",
    "                loop = False\n",
    "\n",
    "        # Superposition du fond ciel\n",
    "        background.fill(CIEL)\n",
    "        fenetre.blit(background, (0, 0))\n",
    "\n",
    "        # Rafraîchissement de l'écran\n",
    "        pygame.display.flip()\n",
    "        # By calling Clock.tick(10) once per frame, the program will never run\n",
    "        # at more than 10 frames per second\n",
    "        clock.tick(10)\n",
    "\n",
    "if __name__ == '__main__':\n",
    "    main()"
   ]
  }
 ],
 "metadata": {
  "kernelspec": {
   "display_name": "Python 3",
   "language": "python",
   "name": "python3"
  },
  "language_info": {
   "codemirror_mode": {
    "name": "ipython",
    "version": 3
   },
   "file_extension": ".py",
   "mimetype": "text/x-python",
   "name": "python",
   "nbconvert_exporter": "python",
   "pygments_lexer": "ipython3",
   "version": "3.7.4"
  }
 },
 "nbformat": 4,
 "nbformat_minor": 2
}
